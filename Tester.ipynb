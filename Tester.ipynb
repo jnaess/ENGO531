{
 "cells": [
  {
   "cell_type": "code",
   "execution_count": 1,
   "metadata": {},
   "outputs": [
    {
     "name": "stdout",
     "output_type": "stream",
     "text": [
      "LSA passed in: 4 iterations\n"
     ]
    },
    {
     "data": {
      "text/plain": [
       "matrix([[ 1.31893339e-03, -3.34208092e-08, -1.38005978e-07, ...,\n",
       "          2.75125218e-09,  4.51771739e-09,  1.20103519e-08],\n",
       "        [-3.34208092e-08,  1.31869637e-03, -6.22579638e-08, ...,\n",
       "         -1.26568697e-09, -3.91013344e-09,  2.14700648e-09],\n",
       "        [-1.38005978e-07, -6.22579638e-08,  1.31906413e-03, ...,\n",
       "          8.20836564e-09,  8.80541832e-09,  1.39891662e-08],\n",
       "        ...,\n",
       "        [ 2.75125218e-09, -1.26568697e-09,  8.20836564e-09, ...,\n",
       "          1.31837739e-03, -3.26215153e-07, -2.95061082e-07],\n",
       "        [ 4.51771739e-09, -3.91013344e-09,  8.80541832e-09, ...,\n",
       "         -3.26215153e-07,  1.31817289e-03, -3.61296839e-07],\n",
       "        [ 1.20103519e-08,  2.14700648e-09,  1.39891662e-08, ...,\n",
       "         -2.95061082e-07, -3.61296839e-07,  1.31873676e-03]])"
      ]
     },
     "execution_count": 1,
     "metadata": {},
     "output_type": "execute_result"
    }
   ],
   "source": [
    "import numpy as np\n",
    "from Design_o import Design_o as Ao\n",
    "from Net import Network\n",
    "\n",
    "models = [Ao()]\n",
    "n = Network(models)\n",
    "n.Cr"
   ]
  },
  {
   "cell_type": "code",
   "execution_count": 2,
   "metadata": {},
   "outputs": [],
   "source": [
    "#n.global_a_posteriori()\n",
    "#n.a_post\n",
    "#n.significance_estimated_param()\n",
    "#n.semi_global_residuals()\n",
    "#n.blunder_detection()"
   ]
  },
  {
   "cell_type": "code",
   "execution_count": 3,
   "metadata": {},
   "outputs": [
    {
     "ename": "AttributeError",
     "evalue": "'Network' object has no attribute 'save_df'",
     "output_type": "error",
     "traceback": [
      "\u001b[1;31m---------------------------------------------------------------------------\u001b[0m",
      "\u001b[1;31mAttributeError\u001b[0m                            Traceback (most recent call last)",
      "\u001b[1;32m<ipython-input-3-e024b56eb6c0>\u001b[0m in \u001b[0;36m<module>\u001b[1;34m\u001b[0m\n\u001b[1;32m----> 1\u001b[1;33m \u001b[0mn\u001b[0m\u001b[1;33m.\u001b[0m\u001b[0msave_df\u001b[0m\u001b[1;33m(\u001b[0m\u001b[0mn\u001b[0m\u001b[1;33m.\u001b[0m\u001b[0mfinal_file\u001b[0m\u001b[1;33m(\u001b[0m\u001b[1;33m)\u001b[0m\u001b[1;33m,\u001b[0m \u001b[1;34m\"Final_Output\"\u001b[0m\u001b[1;33m)\u001b[0m\u001b[1;33m\u001b[0m\u001b[1;33m\u001b[0m\u001b[0m\n\u001b[0m\u001b[0;32m      2\u001b[0m \u001b[1;33m\u001b[0m\u001b[0m\n",
      "\u001b[1;31mAttributeError\u001b[0m: 'Network' object has no attribute 'save_df'"
     ]
    }
   ],
   "source": [
    "n.save_df(n.final_file(), \"Final_Output\")\n",
    "\n"
   ]
  },
  {
   "cell_type": "code",
   "execution_count": null,
   "metadata": {},
   "outputs": [],
   "source": []
  },
  {
   "cell_type": "code",
   "execution_count": null,
   "metadata": {},
   "outputs": [],
   "source": []
  },
  {
   "cell_type": "code",
   "execution_count": null,
   "metadata": {},
   "outputs": [],
   "source": []
  },
  {
   "cell_type": "code",
   "execution_count": null,
   "metadata": {},
   "outputs": [],
   "source": []
  },
  {
   "cell_type": "code",
   "execution_count": null,
   "metadata": {},
   "outputs": [],
   "source": []
  },
  {
   "cell_type": "code",
   "execution_count": null,
   "metadata": {},
   "outputs": [],
   "source": []
  },
  {
   "cell_type": "code",
   "execution_count": null,
   "metadata": {},
   "outputs": [],
   "source": []
  },
  {
   "cell_type": "code",
   "execution_count": null,
   "metadata": {},
   "outputs": [],
   "source": []
  },
  {
   "cell_type": "code",
   "execution_count": 21,
   "metadata": {},
   "outputs": [],
   "source": [
    "\n"
   ]
  },
  {
   "cell_type": "code",
   "execution_count": null,
   "metadata": {},
   "outputs": [],
   "source": []
  },
  {
   "cell_type": "code",
   "execution_count": null,
   "metadata": {},
   "outputs": [],
   "source": []
  }
 ],
 "metadata": {
  "kernelspec": {
   "display_name": "Python 3",
   "language": "python",
   "name": "python3"
  },
  "language_info": {
   "codemirror_mode": {
    "name": "ipython",
    "version": 3
   },
   "file_extension": ".py",
   "mimetype": "text/x-python",
   "name": "python",
   "nbconvert_exporter": "python",
   "pygments_lexer": "ipython3",
   "version": "3.7.3"
  }
 },
 "nbformat": 4,
 "nbformat_minor": 4
}
